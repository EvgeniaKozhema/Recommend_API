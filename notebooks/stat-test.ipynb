{
 "cells": [
  {
   "cell_type": "markdown",
   "id": "9a1d1c05",
   "metadata": {},
   "source": [
    "**Проведен эксперимент на пользователях в течении двух недель.** <br>\n",
    "Предоставлены сырые данные, которые необходимо обработать и сделать выводы"
   ]
  },
  {
   "cell_type": "code",
   "execution_count": 43,
   "id": "42c9d148",
   "metadata": {},
   "outputs": [],
   "source": [
    "import pandas as pd\n",
    "import numpy as np\n",
    "import matplotlib.pyplot as plt\n",
    "import seaborn as sns\n",
    "from scipy.stats import binomtest\n",
    "from scipy.stats import mannwhitneyu\n",
    "import hashlib\n",
    "from scipy.stats import ttest_ind"
   ]
  },
  {
   "cell_type": "code",
   "execution_count": 2,
   "id": "7416fbab",
   "metadata": {},
   "outputs": [],
   "source": [
    "views = pd.read_csv('views.csv')\n",
    "likes = pd.read_csv('likes.csv')"
   ]
  },
  {
   "cell_type": "code",
   "execution_count": 3,
   "id": "5422c1f4",
   "metadata": {},
   "outputs": [
    {
     "data": {
      "text/html": [
       "<div>\n",
       "<style scoped>\n",
       "    .dataframe tbody tr th:only-of-type {\n",
       "        vertical-align: middle;\n",
       "    }\n",
       "\n",
       "    .dataframe tbody tr th {\n",
       "        vertical-align: top;\n",
       "    }\n",
       "\n",
       "    .dataframe thead th {\n",
       "        text-align: right;\n",
       "    }\n",
       "</style>\n",
       "<table border=\"1\" class=\"dataframe\">\n",
       "  <thead>\n",
       "    <tr style=\"text-align: right;\">\n",
       "      <th></th>\n",
       "      <th>user_id</th>\n",
       "      <th>exp_group</th>\n",
       "      <th>recommendations</th>\n",
       "      <th>timestamp</th>\n",
       "    </tr>\n",
       "  </thead>\n",
       "  <tbody>\n",
       "    <tr>\n",
       "      <th>0</th>\n",
       "      <td>128381</td>\n",
       "      <td>control</td>\n",
       "      <td>[3644 4529 4704 5294 4808]</td>\n",
       "      <td>1654030803</td>\n",
       "    </tr>\n",
       "    <tr>\n",
       "      <th>1</th>\n",
       "      <td>146885</td>\n",
       "      <td>test</td>\n",
       "      <td>[1399 1076  797 7015 5942]</td>\n",
       "      <td>1654030811</td>\n",
       "    </tr>\n",
       "    <tr>\n",
       "      <th>2</th>\n",
       "      <td>50948</td>\n",
       "      <td>test</td>\n",
       "      <td>[2315 3037 1861 6567 4093]</td>\n",
       "      <td>1654030825</td>\n",
       "    </tr>\n",
       "    <tr>\n",
       "      <th>3</th>\n",
       "      <td>37703</td>\n",
       "      <td>test</td>\n",
       "      <td>[2842 1949  162 1588 6794]</td>\n",
       "      <td>1654030826</td>\n",
       "    </tr>\n",
       "    <tr>\n",
       "      <th>4</th>\n",
       "      <td>14661</td>\n",
       "      <td>test</td>\n",
       "      <td>[2395 5881 5648 3417  673]</td>\n",
       "      <td>1654030829</td>\n",
       "    </tr>\n",
       "  </tbody>\n",
       "</table>\n",
       "</div>"
      ],
      "text/plain": [
       "   user_id exp_group             recommendations   timestamp\n",
       "0   128381   control  [3644 4529 4704 5294 4808]  1654030803\n",
       "1   146885      test  [1399 1076  797 7015 5942]  1654030811\n",
       "2    50948      test  [2315 3037 1861 6567 4093]  1654030825\n",
       "3    37703      test  [2842 1949  162 1588 6794]  1654030826\n",
       "4    14661      test  [2395 5881 5648 3417  673]  1654030829"
      ]
     },
     "execution_count": 3,
     "metadata": {},
     "output_type": "execute_result"
    }
   ],
   "source": [
    "views.head()"
   ]
  },
  {
   "cell_type": "code",
   "execution_count": 4,
   "id": "035937df",
   "metadata": {
    "scrolled": true
   },
   "outputs": [
    {
     "data": {
      "text/html": [
       "<div>\n",
       "<style scoped>\n",
       "    .dataframe tbody tr th:only-of-type {\n",
       "        vertical-align: middle;\n",
       "    }\n",
       "\n",
       "    .dataframe tbody tr th {\n",
       "        vertical-align: top;\n",
       "    }\n",
       "\n",
       "    .dataframe thead th {\n",
       "        text-align: right;\n",
       "    }\n",
       "</style>\n",
       "<table border=\"1\" class=\"dataframe\">\n",
       "  <thead>\n",
       "    <tr style=\"text-align: right;\">\n",
       "      <th></th>\n",
       "      <th>user_id</th>\n",
       "      <th>post_id</th>\n",
       "      <th>timestamp</th>\n",
       "    </tr>\n",
       "  </thead>\n",
       "  <tbody>\n",
       "    <tr>\n",
       "      <th>0</th>\n",
       "      <td>128381</td>\n",
       "      <td>4704</td>\n",
       "      <td>1654030804</td>\n",
       "    </tr>\n",
       "    <tr>\n",
       "      <th>1</th>\n",
       "      <td>146885</td>\n",
       "      <td>1399</td>\n",
       "      <td>1654030816</td>\n",
       "    </tr>\n",
       "    <tr>\n",
       "      <th>2</th>\n",
       "      <td>50948</td>\n",
       "      <td>2315</td>\n",
       "      <td>1654030828</td>\n",
       "    </tr>\n",
       "    <tr>\n",
       "      <th>3</th>\n",
       "      <td>14661</td>\n",
       "      <td>673</td>\n",
       "      <td>1654030831</td>\n",
       "    </tr>\n",
       "    <tr>\n",
       "      <th>4</th>\n",
       "      <td>37703</td>\n",
       "      <td>1588</td>\n",
       "      <td>1654030833</td>\n",
       "    </tr>\n",
       "  </tbody>\n",
       "</table>\n",
       "</div>"
      ],
      "text/plain": [
       "   user_id  post_id   timestamp\n",
       "0   128381     4704  1654030804\n",
       "1   146885     1399  1654030816\n",
       "2    50948     2315  1654030828\n",
       "3    14661      673  1654030831\n",
       "4    37703     1588  1654030833"
      ]
     },
     "execution_count": 4,
     "metadata": {},
     "output_type": "execute_result"
    }
   ],
   "source": [
    "likes.head()"
   ]
  },
  {
   "cell_type": "markdown",
   "id": "32a04c11",
   "metadata": {},
   "source": [
    "Посмотрим на соотношение контрольной и тестовой групп"
   ]
  },
  {
   "cell_type": "code",
   "execution_count": 6,
   "id": "39fc895d",
   "metadata": {},
   "outputs": [
    {
     "data": {
      "text/plain": [
       "<Axes: xlabel='exp_group', ylabel='Count'>"
      ]
     },
     "execution_count": 6,
     "metadata": {},
     "output_type": "execute_result"
    },
    {
     "data": {
      "image/png": "[encoded data removed]",
      "text/plain": [
       "<Figure size 640x480 with 1 Axes>"
      ]
     },
     "metadata": {},
     "output_type": "display_data"
    }
   ],
   "source": [
    "sns.histplot(data=views['exp_group'])"
   ]
  },
  {
   "cell_type": "markdown",
   "id": "e64cbbbc",
   "metadata": {},
   "source": [
    "Так как группа пользователя определялась прямо перед рекомендациями, то таблички \"пользователь-группа\" нет. Нужно посмотреть, точно ли однозначное соответствие пользователя группе"
   ]
  },
  {
   "cell_type": "code",
   "execution_count": 9,
   "id": "59da2148",
   "metadata": {},
   "outputs": [
    {
     "data": {
      "text/html": [
       "<div>\n",
       "<style scoped>\n",
       "    .dataframe tbody tr th:only-of-type {\n",
       "        vertical-align: middle;\n",
       "    }\n",
       "\n",
       "    .dataframe tbody tr th {\n",
       "        vertical-align: top;\n",
       "    }\n",
       "\n",
       "    .dataframe thead th {\n",
       "        text-align: right;\n",
       "    }\n",
       "</style>\n",
       "<table border=\"1\" class=\"dataframe\">\n",
       "  <thead>\n",
       "    <tr style=\"text-align: right;\">\n",
       "      <th></th>\n",
       "      <th>user_id</th>\n",
       "      <th>exp_group</th>\n",
       "    </tr>\n",
       "  </thead>\n",
       "  <tbody>\n",
       "    <tr>\n",
       "      <th>0</th>\n",
       "      <td>200</td>\n",
       "      <td>1</td>\n",
       "    </tr>\n",
       "    <tr>\n",
       "      <th>1</th>\n",
       "      <td>201</td>\n",
       "      <td>1</td>\n",
       "    </tr>\n",
       "    <tr>\n",
       "      <th>2</th>\n",
       "      <td>202</td>\n",
       "      <td>1</td>\n",
       "    </tr>\n",
       "    <tr>\n",
       "      <th>3</th>\n",
       "      <td>212</td>\n",
       "      <td>1</td>\n",
       "    </tr>\n",
       "    <tr>\n",
       "      <th>4</th>\n",
       "      <td>213</td>\n",
       "      <td>1</td>\n",
       "    </tr>\n",
       "  </tbody>\n",
       "</table>\n",
       "</div>"
      ],
      "text/plain": [
       "   user_id  exp_group\n",
       "0      200          1\n",
       "1      201          1\n",
       "2      202          1\n",
       "3      212          1\n",
       "4      213          1"
      ]
     },
     "execution_count": 9,
     "metadata": {},
     "output_type": "execute_result"
    }
   ],
   "source": [
    "users_to_group = views.groupby('user_id').exp_group.nunique().reset_index()\n",
    "users_to_group.head()"
   ]
  },
  {
   "cell_type": "code",
   "execution_count": 10,
   "id": "cdeb1ecc",
   "metadata": {},
   "outputs": [
    {
     "data": {
      "text/html": [
       "<div>\n",
       "<style scoped>\n",
       "    .dataframe tbody tr th:only-of-type {\n",
       "        vertical-align: middle;\n",
       "    }\n",
       "\n",
       "    .dataframe tbody tr th {\n",
       "        vertical-align: top;\n",
       "    }\n",
       "\n",
       "    .dataframe thead th {\n",
       "        text-align: right;\n",
       "    }\n",
       "</style>\n",
       "<table border=\"1\" class=\"dataframe\">\n",
       "  <thead>\n",
       "    <tr style=\"text-align: right;\">\n",
       "      <th></th>\n",
       "      <th>user_id</th>\n",
       "      <th>exp_group</th>\n",
       "    </tr>\n",
       "  </thead>\n",
       "  <tbody>\n",
       "    <tr>\n",
       "      <th>10071</th>\n",
       "      <td>25623</td>\n",
       "      <td>2</td>\n",
       "    </tr>\n",
       "    <tr>\n",
       "      <th>20633</th>\n",
       "      <td>55788</td>\n",
       "      <td>2</td>\n",
       "    </tr>\n",
       "    <tr>\n",
       "      <th>54475</th>\n",
       "      <td>142283</td>\n",
       "      <td>2</td>\n",
       "    </tr>\n",
       "    <tr>\n",
       "      <th>57065</th>\n",
       "      <td>148670</td>\n",
       "      <td>2</td>\n",
       "    </tr>\n",
       "  </tbody>\n",
       "</table>\n",
       "</div>"
      ],
      "text/plain": [
       "       user_id  exp_group\n",
       "10071    25623          2\n",
       "20633    55788          2\n",
       "54475   142283          2\n",
       "57065   148670          2"
      ]
     },
     "execution_count": 10,
     "metadata": {},
     "output_type": "execute_result"
    }
   ],
   "source": [
    "users_to_group[users_to_group['exp_group']>1]"
   ]
  },
  {
   "cell_type": "markdown",
   "id": "18bee098",
   "metadata": {},
   "source": [
    "Нашлись пользователи, которые попали в обеи группы. Удалим их"
   ]
  },
  {
   "cell_type": "code",
   "execution_count": 11,
   "id": "80ed688b",
   "metadata": {},
   "outputs": [],
   "source": [
    "users_to_remove = users_to_group[users_to_group.exp_group > 1].user_id.values\n",
    "\n",
    "views = views[~np.in1d(views.user_id, users_to_remove)]\n",
    "likes = likes[~np.in1d(likes.user_id, users_to_remove)]"
   ]
  },
  {
   "cell_type": "markdown",
   "id": "0d8575a4",
   "metadata": {},
   "source": [
    "Проверим, одинаковый ли размер групп "
   ]
  },
  {
   "cell_type": "code",
   "execution_count": 15,
   "id": "c35e0312",
   "metadata": {},
   "outputs": [
    {
     "data": {
      "text/plain": [
       "test       32659\n",
       "control    32350\n",
       "Name: exp_group, dtype: int64"
      ]
     },
     "execution_count": 15,
     "metadata": {},
     "output_type": "execute_result"
    }
   ],
   "source": [
    "views.groupby('user_id').first().exp_group.value_counts()"
   ]
  },
  {
   "cell_type": "code",
   "execution_count": 18,
   "id": "26215dbf",
   "metadata": {},
   "outputs": [
    {
     "data": {
      "text/plain": [
       "65009"
      ]
     },
     "execution_count": 18,
     "metadata": {},
     "output_type": "execute_result"
    }
   ],
   "source": [
    "views['user_id'].nunique()"
   ]
  },
  {
   "cell_type": "markdown",
   "id": "68a61191",
   "metadata": {},
   "source": [
    "Проведем бином тест, чтобы убедиться, что группы разбиты нормально"
   ]
  },
  {
   "cell_type": "code",
   "execution_count": 20,
   "id": "5913a1c6",
   "metadata": {},
   "outputs": [
    {
     "data": {
      "text/plain": [
       "BinomTestResult(k=32350, n=65009, alternative='two-sided', statistic=0.49762340598993987, pvalue=0.2270501563614752)"
      ]
     },
     "execution_count": 20,
     "metadata": {},
     "output_type": "execute_result"
    }
   ],
   "source": [
    "binomtest(32350, 65009, p=0.5)"
   ]
  },
  {
   "cell_type": "markdown",
   "id": "28d4ee9f",
   "metadata": {},
   "source": [
    "pvalue=0.227, значит мы принимаем нулевую гипотезу о том, что группы равного размера"
   ]
  },
  {
   "cell_type": "markdown",
   "id": "ca8ee12f",
   "metadata": {},
   "source": [
    "Посмотрим, какая часть пользователей поставила хотя бы одну реакцию за время эксперимента"
   ]
  },
  {
   "cell_type": "code",
   "execution_count": 23,
   "id": "46b9b477",
   "metadata": {},
   "outputs": [
    {
     "data": {
      "text/html": [
       "<div>\n",
       "<style scoped>\n",
       "    .dataframe tbody tr th:only-of-type {\n",
       "        vertical-align: middle;\n",
       "    }\n",
       "\n",
       "    .dataframe tbody tr th {\n",
       "        vertical-align: top;\n",
       "    }\n",
       "\n",
       "    .dataframe thead th {\n",
       "        text-align: right;\n",
       "    }\n",
       "</style>\n",
       "<table border=\"1\" class=\"dataframe\">\n",
       "  <thead>\n",
       "    <tr style=\"text-align: right;\">\n",
       "      <th></th>\n",
       "      <th>user_id</th>\n",
       "      <th>exp_group</th>\n",
       "    </tr>\n",
       "  </thead>\n",
       "  <tbody>\n",
       "    <tr>\n",
       "      <th>0</th>\n",
       "      <td>200</td>\n",
       "      <td>test</td>\n",
       "    </tr>\n",
       "    <tr>\n",
       "      <th>1</th>\n",
       "      <td>201</td>\n",
       "      <td>test</td>\n",
       "    </tr>\n",
       "    <tr>\n",
       "      <th>2</th>\n",
       "      <td>202</td>\n",
       "      <td>test</td>\n",
       "    </tr>\n",
       "    <tr>\n",
       "      <th>3</th>\n",
       "      <td>212</td>\n",
       "      <td>test</td>\n",
       "    </tr>\n",
       "    <tr>\n",
       "      <th>4</th>\n",
       "      <td>213</td>\n",
       "      <td>test</td>\n",
       "    </tr>\n",
       "  </tbody>\n",
       "</table>\n",
       "</div>"
      ],
      "text/plain": [
       "   user_id exp_group\n",
       "0      200      test\n",
       "1      201      test\n",
       "2      202      test\n",
       "3      212      test\n",
       "4      213      test"
      ]
     },
     "execution_count": 23,
     "metadata": {},
     "output_type": "execute_result"
    }
   ],
   "source": [
    "groups = views.groupby('user_id').first().reset_index()[['user_id', 'exp_group']]\n",
    "groups.head()"
   ]
  },
  {
   "cell_type": "code",
   "execution_count": 25,
   "id": "b9189273",
   "metadata": {},
   "outputs": [
    {
     "data": {
      "text/html": [
       "<div>\n",
       "<style scoped>\n",
       "    .dataframe tbody tr th:only-of-type {\n",
       "        vertical-align: middle;\n",
       "    }\n",
       "\n",
       "    .dataframe tbody tr th {\n",
       "        vertical-align: top;\n",
       "    }\n",
       "\n",
       "    .dataframe thead th {\n",
       "        text-align: right;\n",
       "    }\n",
       "</style>\n",
       "<table border=\"1\" class=\"dataframe\">\n",
       "  <thead>\n",
       "    <tr style=\"text-align: right;\">\n",
       "      <th></th>\n",
       "      <th>user_id</th>\n",
       "      <th>like_num</th>\n",
       "    </tr>\n",
       "  </thead>\n",
       "  <tbody>\n",
       "    <tr>\n",
       "      <th>0</th>\n",
       "      <td>200</td>\n",
       "      <td>1</td>\n",
       "    </tr>\n",
       "    <tr>\n",
       "      <th>1</th>\n",
       "      <td>201</td>\n",
       "      <td>3</td>\n",
       "    </tr>\n",
       "    <tr>\n",
       "      <th>2</th>\n",
       "      <td>202</td>\n",
       "      <td>2</td>\n",
       "    </tr>\n",
       "    <tr>\n",
       "      <th>3</th>\n",
       "      <td>212</td>\n",
       "      <td>4</td>\n",
       "    </tr>\n",
       "    <tr>\n",
       "      <th>4</th>\n",
       "      <td>213</td>\n",
       "      <td>7</td>\n",
       "    </tr>\n",
       "  </tbody>\n",
       "</table>\n",
       "</div>"
      ],
      "text/plain": [
       "   user_id  like_num\n",
       "0      200         1\n",
       "1      201         3\n",
       "2      202         2\n",
       "3      212         4\n",
       "4      213         7"
      ]
     },
     "execution_count": 25,
     "metadata": {},
     "output_type": "execute_result"
    }
   ],
   "source": [
    "likes_per_user = (\n",
    "    likes\n",
    "    .groupby('user_id')\n",
    "    .post_id.count()\n",
    "    .reset_index()\n",
    "    .rename(columns={'post_id': 'like_num'})\n",
    ")\n",
    "\n",
    "likes_per_user.head()"
   ]
  },
  {
   "cell_type": "code",
   "execution_count": 26,
   "id": "40355829",
   "metadata": {},
   "outputs": [
    {
     "name": "stdout",
     "output_type": "stream",
     "text": [
      "Хотя бы 1 лайк в ходе эксперимента поставило: 89.48% пользователей\n"
     ]
    }
   ],
   "source": [
    "percentage_of_likers = 1 - (len(views.user_id.unique()) - len(likes_per_user)) / len(views.user_id.unique())\n",
    "print(f\"Хотя бы 1 лайк в ходе эксперимента поставило: {round(percentage_of_likers, 4)*100}% пользователей\")"
   ]
  },
  {
   "cell_type": "code",
   "execution_count": 27,
   "id": "5e14a5fb",
   "metadata": {},
   "outputs": [
    {
     "data": {
      "text/html": [
       "<div>\n",
       "<style scoped>\n",
       "    .dataframe tbody tr th:only-of-type {\n",
       "        vertical-align: middle;\n",
       "    }\n",
       "\n",
       "    .dataframe tbody tr th {\n",
       "        vertical-align: top;\n",
       "    }\n",
       "\n",
       "    .dataframe thead th {\n",
       "        text-align: right;\n",
       "    }\n",
       "</style>\n",
       "<table border=\"1\" class=\"dataframe\">\n",
       "  <thead>\n",
       "    <tr style=\"text-align: right;\">\n",
       "      <th></th>\n",
       "      <th>user_id</th>\n",
       "      <th>exp_group</th>\n",
       "      <th>like_num</th>\n",
       "      <th>has_like</th>\n",
       "    </tr>\n",
       "  </thead>\n",
       "  <tbody>\n",
       "    <tr>\n",
       "      <th>0</th>\n",
       "      <td>200</td>\n",
       "      <td>test</td>\n",
       "      <td>1.0</td>\n",
       "      <td>1</td>\n",
       "    </tr>\n",
       "    <tr>\n",
       "      <th>1</th>\n",
       "      <td>201</td>\n",
       "      <td>test</td>\n",
       "      <td>3.0</td>\n",
       "      <td>1</td>\n",
       "    </tr>\n",
       "    <tr>\n",
       "      <th>2</th>\n",
       "      <td>202</td>\n",
       "      <td>test</td>\n",
       "      <td>2.0</td>\n",
       "      <td>1</td>\n",
       "    </tr>\n",
       "    <tr>\n",
       "      <th>3</th>\n",
       "      <td>212</td>\n",
       "      <td>test</td>\n",
       "      <td>4.0</td>\n",
       "      <td>1</td>\n",
       "    </tr>\n",
       "    <tr>\n",
       "      <th>4</th>\n",
       "      <td>213</td>\n",
       "      <td>test</td>\n",
       "      <td>7.0</td>\n",
       "      <td>1</td>\n",
       "    </tr>\n",
       "  </tbody>\n",
       "</table>\n",
       "</div>"
      ],
      "text/plain": [
       "   user_id exp_group  like_num  has_like\n",
       "0      200      test       1.0         1\n",
       "1      201      test       3.0         1\n",
       "2      202      test       2.0         1\n",
       "3      212      test       4.0         1\n",
       "4      213      test       7.0         1"
      ]
     },
     "execution_count": 27,
     "metadata": {},
     "output_type": "execute_result"
    }
   ],
   "source": [
    "user_likes = pd.merge(groups, likes_per_user, on='user_id', how='left')\n",
    "user_likes.like_num = user_likes.like_num.fillna(0)\n",
    "user_likes['has_like'] = (user_likes['like_num'] > 0).astype(int)\n",
    "user_likes.head()"
   ]
  },
  {
   "cell_type": "code",
   "execution_count": 28,
   "id": "4ee67411",
   "metadata": {},
   "outputs": [
    {
     "data": {
      "text/html": [
       "<div>\n",
       "<style scoped>\n",
       "    .dataframe tbody tr th:only-of-type {\n",
       "        vertical-align: middle;\n",
       "    }\n",
       "\n",
       "    .dataframe tbody tr th {\n",
       "        vertical-align: top;\n",
       "    }\n",
       "\n",
       "    .dataframe thead th {\n",
       "        text-align: right;\n",
       "    }\n",
       "</style>\n",
       "<table border=\"1\" class=\"dataframe\">\n",
       "  <thead>\n",
       "    <tr style=\"text-align: right;\">\n",
       "      <th></th>\n",
       "      <th>has_like</th>\n",
       "      <th>avg_like_num</th>\n",
       "    </tr>\n",
       "    <tr>\n",
       "      <th>exp_group</th>\n",
       "      <th></th>\n",
       "      <th></th>\n",
       "    </tr>\n",
       "  </thead>\n",
       "  <tbody>\n",
       "    <tr>\n",
       "      <th>control</th>\n",
       "      <td>0.891314</td>\n",
       "      <td>3.487079</td>\n",
       "    </tr>\n",
       "    <tr>\n",
       "      <th>test</th>\n",
       "      <td>0.898160</td>\n",
       "      <td>3.592578</td>\n",
       "    </tr>\n",
       "  </tbody>\n",
       "</table>\n",
       "</div>"
      ],
      "text/plain": [
       "           has_like  avg_like_num\n",
       "exp_group                        \n",
       "control    0.891314      3.487079\n",
       "test       0.898160      3.592578"
      ]
     },
     "execution_count": 28,
     "metadata": {},
     "output_type": "execute_result"
    }
   ],
   "source": [
    "likes_per_user_grouped = user_likes.groupby('exp_group')[['has_like', 'like_num']].mean()\n",
    "likes_per_user_grouped.rename(columns={'like_num': 'avg_like_num'})"
   ]
  },
  {
   "cell_type": "markdown",
   "id": "d56440a9",
   "metadata": {},
   "source": [
    "Проверим доли пользователей с хотя бы одним лайком и число лайков на пользователя"
   ]
  },
  {
   "cell_type": "code",
   "execution_count": 29,
   "id": "47133b46",
   "metadata": {},
   "outputs": [
    {
     "data": {
      "text/plain": [
       "<Axes: xlabel='like_num', ylabel='Count'>"
      ]
     },
     "execution_count": 29,
     "metadata": {},
     "output_type": "execute_result"
    },
    {
     "data": {
      "image/png": "[encoded data removed]",
      "text/plain": [
       "<Figure size 640x480 with 1 Axes>"
      ]
     },
     "metadata": {},
     "output_type": "display_data"
    }
   ],
   "source": [
    "sns.histplot(likes_per_user.like_num, bins=20)"
   ]
  },
  {
   "cell_type": "markdown",
   "id": "82663f57",
   "metadata": {},
   "source": [
    "У нас логнормальное распределение. Воспользумся критерием Манна-Уитни-Уилкоксона"
   ]
  },
  {
   "cell_type": "code",
   "execution_count": 31,
   "id": "0ab035c5",
   "metadata": {},
   "outputs": [
    {
     "data": {
      "text/plain": [
       "MannwhitneyuResult(statistic=518358073.0, pvalue=2.9585062792441964e-05)"
      ]
     },
     "execution_count": 31,
     "metadata": {},
     "output_type": "execute_result"
    }
   ],
   "source": [
    "mannwhitneyu(\n",
    "    user_likes[user_likes.exp_group == 'control'].like_num,\n",
    "    user_likes[user_likes.exp_group == 'test'].like_num,\n",
    ")"
   ]
  },
  {
   "cell_type": "markdown",
   "id": "a8a2d95d",
   "metadata": {},
   "source": [
    "pvalue=2.96E-5 а значит, что изменения значимые"
   ]
  },
  {
   "cell_type": "markdown",
   "id": "0ca90af3",
   "metadata": {},
   "source": [
    "Посчитаем hitrate. У нас нет айди по которому можно сджойнить, поэтому сделаим джойн по пользователям всех лайков и всех показов рекомендаций. Отфильтруем по времени показ от лайка (возьмём за отсечку 1 час)"
   ]
  },
  {
   "cell_type": "code",
   "execution_count": 32,
   "id": "5dda9f57",
   "metadata": {},
   "outputs": [
    {
     "data": {
      "text/html": [
       "<div>\n",
       "<style scoped>\n",
       "    .dataframe tbody tr th:only-of-type {\n",
       "        vertical-align: middle;\n",
       "    }\n",
       "\n",
       "    .dataframe tbody tr th {\n",
       "        vertical-align: top;\n",
       "    }\n",
       "\n",
       "    .dataframe thead th {\n",
       "        text-align: right;\n",
       "    }\n",
       "</style>\n",
       "<table border=\"1\" class=\"dataframe\">\n",
       "  <thead>\n",
       "    <tr style=\"text-align: right;\">\n",
       "      <th></th>\n",
       "      <th>user_id</th>\n",
       "      <th>exp_group</th>\n",
       "      <th>recommendations</th>\n",
       "      <th>timestamp_x</th>\n",
       "      <th>post_id</th>\n",
       "      <th>timestamp_y</th>\n",
       "    </tr>\n",
       "  </thead>\n",
       "  <tbody>\n",
       "    <tr>\n",
       "      <th>0</th>\n",
       "      <td>128381</td>\n",
       "      <td>control</td>\n",
       "      <td>[3644 4529 4704 5294 4808]</td>\n",
       "      <td>1654030803</td>\n",
       "      <td>4704</td>\n",
       "      <td>1.654031e+09</td>\n",
       "    </tr>\n",
       "    <tr>\n",
       "      <th>1</th>\n",
       "      <td>128381</td>\n",
       "      <td>control</td>\n",
       "      <td>[3644 4529 4704 5294 4808]</td>\n",
       "      <td>1654030803</td>\n",
       "      <td>5294</td>\n",
       "      <td>1.654031e+09</td>\n",
       "    </tr>\n",
       "    <tr>\n",
       "      <th>2</th>\n",
       "      <td>128381</td>\n",
       "      <td>control</td>\n",
       "      <td>[3644 4529 4704 5294 4808]</td>\n",
       "      <td>1654030803</td>\n",
       "      <td>3608</td>\n",
       "      <td>1.655049e+09</td>\n",
       "    </tr>\n",
       "    <tr>\n",
       "      <th>3</th>\n",
       "      <td>128381</td>\n",
       "      <td>control</td>\n",
       "      <td>[3644 4529 4704 5294 4808]</td>\n",
       "      <td>1654030803</td>\n",
       "      <td>2542</td>\n",
       "      <td>1.655049e+09</td>\n",
       "    </tr>\n",
       "    <tr>\n",
       "      <th>4</th>\n",
       "      <td>128381</td>\n",
       "      <td>control</td>\n",
       "      <td>[3644 4529 4704 5294 4808]</td>\n",
       "      <td>1654030803</td>\n",
       "      <td>4165</td>\n",
       "      <td>1.655053e+09</td>\n",
       "    </tr>\n",
       "  </tbody>\n",
       "</table>\n",
       "</div>"
      ],
      "text/plain": [
       "   user_id exp_group             recommendations  timestamp_x  post_id  \\\n",
       "0   128381   control  [3644 4529 4704 5294 4808]   1654030803     4704   \n",
       "1   128381   control  [3644 4529 4704 5294 4808]   1654030803     5294   \n",
       "2   128381   control  [3644 4529 4704 5294 4808]   1654030803     3608   \n",
       "3   128381   control  [3644 4529 4704 5294 4808]   1654030803     2542   \n",
       "4   128381   control  [3644 4529 4704 5294 4808]   1654030803     4165   \n",
       "\n",
       "    timestamp_y  \n",
       "0  1.654031e+09  \n",
       "1  1.654031e+09  \n",
       "2  1.655049e+09  \n",
       "3  1.655049e+09  \n",
       "4  1.655053e+09  "
      ]
     },
     "execution_count": 32,
     "metadata": {},
     "output_type": "execute_result"
    }
   ],
   "source": [
    "pivot = pd.merge(views, likes, on='user_id', how='outer')\n",
    "pivot.post_id = pivot.post_id.fillna(-1).astype(int)\n",
    "pivot.head()"
   ]
  },
  {
   "cell_type": "code",
   "execution_count": 33,
   "id": "d1881c5b",
   "metadata": {},
   "outputs": [
    {
     "data": {
      "text/html": [
       "<div>\n",
       "<style scoped>\n",
       "    .dataframe tbody tr th:only-of-type {\n",
       "        vertical-align: middle;\n",
       "    }\n",
       "\n",
       "    .dataframe tbody tr th {\n",
       "        vertical-align: top;\n",
       "    }\n",
       "\n",
       "    .dataframe thead th {\n",
       "        text-align: right;\n",
       "    }\n",
       "</style>\n",
       "<table border=\"1\" class=\"dataframe\">\n",
       "  <thead>\n",
       "    <tr style=\"text-align: right;\">\n",
       "      <th></th>\n",
       "      <th>user_id</th>\n",
       "      <th>exp_group</th>\n",
       "      <th>recommendations</th>\n",
       "      <th>timestamp_x</th>\n",
       "      <th>post_id</th>\n",
       "      <th>timestamp_y</th>\n",
       "    </tr>\n",
       "  </thead>\n",
       "  <tbody>\n",
       "    <tr>\n",
       "      <th>0</th>\n",
       "      <td>128381</td>\n",
       "      <td>control</td>\n",
       "      <td>[3644, 4529, 4704, 5294, 4808]</td>\n",
       "      <td>1654030803</td>\n",
       "      <td>4704</td>\n",
       "      <td>1.654031e+09</td>\n",
       "    </tr>\n",
       "    <tr>\n",
       "      <th>1</th>\n",
       "      <td>128381</td>\n",
       "      <td>control</td>\n",
       "      <td>[3644, 4529, 4704, 5294, 4808]</td>\n",
       "      <td>1654030803</td>\n",
       "      <td>5294</td>\n",
       "      <td>1.654031e+09</td>\n",
       "    </tr>\n",
       "    <tr>\n",
       "      <th>2</th>\n",
       "      <td>128381</td>\n",
       "      <td>control</td>\n",
       "      <td>[3644, 4529, 4704, 5294, 4808]</td>\n",
       "      <td>1654030803</td>\n",
       "      <td>3608</td>\n",
       "      <td>1.655049e+09</td>\n",
       "    </tr>\n",
       "    <tr>\n",
       "      <th>3</th>\n",
       "      <td>128381</td>\n",
       "      <td>control</td>\n",
       "      <td>[3644, 4529, 4704, 5294, 4808]</td>\n",
       "      <td>1654030803</td>\n",
       "      <td>2542</td>\n",
       "      <td>1.655049e+09</td>\n",
       "    </tr>\n",
       "    <tr>\n",
       "      <th>4</th>\n",
       "      <td>128381</td>\n",
       "      <td>control</td>\n",
       "      <td>[3644, 4529, 4704, 5294, 4808]</td>\n",
       "      <td>1654030803</td>\n",
       "      <td>4165</td>\n",
       "      <td>1.655053e+09</td>\n",
       "    </tr>\n",
       "  </tbody>\n",
       "</table>\n",
       "</div>"
      ],
      "text/plain": [
       "   user_id exp_group                 recommendations  timestamp_x  post_id  \\\n",
       "0   128381   control  [3644, 4529, 4704, 5294, 4808]   1654030803     4704   \n",
       "1   128381   control  [3644, 4529, 4704, 5294, 4808]   1654030803     5294   \n",
       "2   128381   control  [3644, 4529, 4704, 5294, 4808]   1654030803     3608   \n",
       "3   128381   control  [3644, 4529, 4704, 5294, 4808]   1654030803     2542   \n",
       "4   128381   control  [3644, 4529, 4704, 5294, 4808]   1654030803     4165   \n",
       "\n",
       "    timestamp_y  \n",
       "0  1.654031e+09  \n",
       "1  1.654031e+09  \n",
       "2  1.655049e+09  \n",
       "3  1.655049e+09  \n",
       "4  1.655053e+09  "
      ]
     },
     "execution_count": 33,
     "metadata": {},
     "output_type": "execute_result"
    }
   ],
   "source": [
    "pivot['recommendations'] = pivot.recommendations.apply(\n",
    "    lambda x: list(map(int, filter(bool, x[1:-1].split(' '))))\n",
    ")\n",
    "pivot.head()"
   ]
  },
  {
   "cell_type": "code",
   "execution_count": 34,
   "id": "aaafac21",
   "metadata": {},
   "outputs": [],
   "source": [
    "pivot.post_id = pivot.apply(\n",
    "    lambda row:\n",
    "    -1\n",
    "    if\n",
    "        (row.post_id == -1) | \n",
    "        ((row.timestamp_x > row.timestamp_y) |\n",
    "         (row.timestamp_x + 60 * 60 < row.timestamp_y)) |\n",
    "        (row.post_id not in row.recommendations)\n",
    "    else\n",
    "    row.post_id, axis=1)"
   ]
  },
  {
   "cell_type": "code",
   "execution_count": 35,
   "id": "637d9861",
   "metadata": {},
   "outputs": [
    {
     "data": {
      "text/plain": [
       "0.7132582734855227"
      ]
     },
     "execution_count": 35,
     "metadata": {},
     "output_type": "execute_result"
    }
   ],
   "source": [
    "def my_agg(values):\n",
    "    values = set(values)\n",
    "    if -1 in values and len(values) >= 2:\n",
    "        return 1\n",
    "    elif -1 not in values:\n",
    "        return 1\n",
    "    return 0\n",
    "\n",
    "agg = pivot.groupby(['user_id', 'exp_group', 'timestamp_x']).post_id.agg(my_agg)\n",
    "agg.reset_index().post_id.mean()"
   ]
  },
  {
   "cell_type": "markdown",
   "id": "a38f7ae2",
   "metadata": {},
   "source": [
    "Доля показов рекомендованных постом с хотя бы одним лайком: 71.33%"
   ]
  },
  {
   "cell_type": "markdown",
   "id": "90764844",
   "metadata": {},
   "source": [
    "Оценим различие между группами и значимость. Применим бакетный подход, уровень значимости 0.05."
   ]
  },
  {
   "cell_type": "code",
   "execution_count": 36,
   "id": "066eac81",
   "metadata": {},
   "outputs": [],
   "source": [
    "agg = agg.reset_index().rename(columns={'post_id': 'hitrate'})"
   ]
  },
  {
   "cell_type": "code",
   "execution_count": 39,
   "id": "978348ef",
   "metadata": {},
   "outputs": [],
   "source": [
    "agg['bucket'] = agg['user_id'].apply(\n",
    "    lambda x: int(hashlib.md5((str(x) + 'bbb').encode()).hexdigest(), 16) % 100\n",
    ")"
   ]
  },
  {
   "cell_type": "code",
   "execution_count": 40,
   "id": "37eb9b09",
   "metadata": {},
   "outputs": [
    {
     "data": {
      "text/html": [
       "<div>\n",
       "<style scoped>\n",
       "    .dataframe tbody tr th:only-of-type {\n",
       "        vertical-align: middle;\n",
       "    }\n",
       "\n",
       "    .dataframe tbody tr th {\n",
       "        vertical-align: top;\n",
       "    }\n",
       "\n",
       "    .dataframe thead th {\n",
       "        text-align: right;\n",
       "    }\n",
       "</style>\n",
       "<table border=\"1\" class=\"dataframe\">\n",
       "  <thead>\n",
       "    <tr style=\"text-align: right;\">\n",
       "      <th></th>\n",
       "      <th>user_id</th>\n",
       "      <th>exp_group</th>\n",
       "      <th>timestamp_x</th>\n",
       "      <th>hitrate</th>\n",
       "      <th>bucket</th>\n",
       "    </tr>\n",
       "  </thead>\n",
       "  <tbody>\n",
       "    <tr>\n",
       "      <th>0</th>\n",
       "      <td>200</td>\n",
       "      <td>test</td>\n",
       "      <td>1655009047</td>\n",
       "      <td>1</td>\n",
       "      <td>97</td>\n",
       "    </tr>\n",
       "    <tr>\n",
       "      <th>1</th>\n",
       "      <td>201</td>\n",
       "      <td>test</td>\n",
       "      <td>1654043283</td>\n",
       "      <td>0</td>\n",
       "      <td>39</td>\n",
       "    </tr>\n",
       "    <tr>\n",
       "      <th>2</th>\n",
       "      <td>201</td>\n",
       "      <td>test</td>\n",
       "      <td>1654173790</td>\n",
       "      <td>0</td>\n",
       "      <td>39</td>\n",
       "    </tr>\n",
       "    <tr>\n",
       "      <th>3</th>\n",
       "      <td>201</td>\n",
       "      <td>test</td>\n",
       "      <td>1654444704</td>\n",
       "      <td>1</td>\n",
       "      <td>39</td>\n",
       "    </tr>\n",
       "    <tr>\n",
       "      <th>4</th>\n",
       "      <td>201</td>\n",
       "      <td>test</td>\n",
       "      <td>1654517459</td>\n",
       "      <td>0</td>\n",
       "      <td>39</td>\n",
       "    </tr>\n",
       "  </tbody>\n",
       "</table>\n",
       "</div>"
      ],
      "text/plain": [
       "   user_id exp_group  timestamp_x  hitrate  bucket\n",
       "0      200      test   1655009047        1      97\n",
       "1      201      test   1654043283        0      39\n",
       "2      201      test   1654173790        0      39\n",
       "3      201      test   1654444704        1      39\n",
       "4      201      test   1654517459        0      39"
      ]
     },
     "execution_count": 40,
     "metadata": {},
     "output_type": "execute_result"
    }
   ],
   "source": [
    "agg.head()"
   ]
  },
  {
   "cell_type": "code",
   "execution_count": 41,
   "id": "c022bba3",
   "metadata": {},
   "outputs": [
    {
     "data": {
      "text/html": [
       "<div>\n",
       "<style scoped>\n",
       "    .dataframe tbody tr th:only-of-type {\n",
       "        vertical-align: middle;\n",
       "    }\n",
       "\n",
       "    .dataframe tbody tr th {\n",
       "        vertical-align: top;\n",
       "    }\n",
       "\n",
       "    .dataframe thead th {\n",
       "        text-align: right;\n",
       "    }\n",
       "</style>\n",
       "<table border=\"1\" class=\"dataframe\">\n",
       "  <thead>\n",
       "    <tr style=\"text-align: right;\">\n",
       "      <th></th>\n",
       "      <th>exp_group</th>\n",
       "      <th>bucket</th>\n",
       "      <th>user_id</th>\n",
       "      <th>timestamp_x</th>\n",
       "      <th>hitrate</th>\n",
       "      <th>view</th>\n",
       "      <th>hitrate_new</th>\n",
       "    </tr>\n",
       "  </thead>\n",
       "  <tbody>\n",
       "    <tr>\n",
       "      <th>0</th>\n",
       "      <td>control</td>\n",
       "      <td>0</td>\n",
       "      <td>75055655</td>\n",
       "      <td>1472627637383</td>\n",
       "      <td>621</td>\n",
       "      <td>890</td>\n",
       "      <td>0.697753</td>\n",
       "    </tr>\n",
       "    <tr>\n",
       "      <th>1</th>\n",
       "      <td>control</td>\n",
       "      <td>1</td>\n",
       "      <td>78264361</td>\n",
       "      <td>1557009869357</td>\n",
       "      <td>666</td>\n",
       "      <td>941</td>\n",
       "      <td>0.707758</td>\n",
       "    </tr>\n",
       "    <tr>\n",
       "      <th>2</th>\n",
       "      <td>control</td>\n",
       "      <td>2</td>\n",
       "      <td>89756485</td>\n",
       "      <td>1664574067853</td>\n",
       "      <td>705</td>\n",
       "      <td>1006</td>\n",
       "      <td>0.700795</td>\n",
       "    </tr>\n",
       "    <tr>\n",
       "      <th>3</th>\n",
       "      <td>control</td>\n",
       "      <td>3</td>\n",
       "      <td>74901253</td>\n",
       "      <td>1523924072519</td>\n",
       "      <td>645</td>\n",
       "      <td>921</td>\n",
       "      <td>0.700326</td>\n",
       "    </tr>\n",
       "    <tr>\n",
       "      <th>4</th>\n",
       "      <td>control</td>\n",
       "      <td>4</td>\n",
       "      <td>77518818</td>\n",
       "      <td>1603347973264</td>\n",
       "      <td>710</td>\n",
       "      <td>969</td>\n",
       "      <td>0.732714</td>\n",
       "    </tr>\n",
       "  </tbody>\n",
       "</table>\n",
       "</div>"
      ],
      "text/plain": [
       "  exp_group  bucket   user_id    timestamp_x  hitrate  view  hitrate_new\n",
       "0   control       0  75055655  1472627637383      621   890     0.697753\n",
       "1   control       1  78264361  1557009869357      666   941     0.707758\n",
       "2   control       2  89756485  1664574067853      705  1006     0.700795\n",
       "3   control       3  74901253  1523924072519      645   921     0.700326\n",
       "4   control       4  77518818  1603347973264      710   969     0.732714"
      ]
     },
     "execution_count": 41,
     "metadata": {},
     "output_type": "execute_result"
    }
   ],
   "source": [
    "agg['view'] = 1\n",
    "\n",
    "new_df = agg.groupby(['exp_group', 'bucket']).sum(['hitrate', 'view']).reset_index()\n",
    "new_df['hitrate_new'] = new_df.hitrate / new_df.view\n",
    "\n",
    "new_df.head()"
   ]
  },
  {
   "cell_type": "code",
   "execution_count": 42,
   "id": "3a13612e",
   "metadata": {},
   "outputs": [
    {
     "data": {
      "text/plain": [
       "exp_group\n",
       "control    0.706651\n",
       "test       0.719829\n",
       "Name: hitrate, dtype: float64"
      ]
     },
     "execution_count": 42,
     "metadata": {},
     "output_type": "execute_result"
    }
   ],
   "source": [
    "agg.groupby('exp_group').hitrate.mean()"
   ]
  },
  {
   "cell_type": "markdown",
   "id": "16b3894d",
   "metadata": {},
   "source": [
    "Разница почти в 2%. Оценим значимость"
   ]
  },
  {
   "cell_type": "code",
   "execution_count": 44,
   "id": "f33eb75b",
   "metadata": {},
   "outputs": [
    {
     "data": {
      "text/plain": [
       "MannwhitneyuResult(statistic=2474.0, pvalue=6.795052834951048e-10)"
      ]
     },
     "execution_count": 44,
     "metadata": {},
     "output_type": "execute_result"
    }
   ],
   "source": [
    "mannwhitneyu(\n",
    "    new_df[new_df.exp_group == 'control'].hitrate_new,\n",
    "    new_df[new_df.exp_group == 'test'].hitrate_new,\n",
    ")"
   ]
  },
  {
   "cell_type": "code",
   "execution_count": 45,
   "id": "7c19a155",
   "metadata": {},
   "outputs": [
    {
     "data": {
      "text/plain": [
       "Ttest_indResult(statistic=-6.283293948472979, pvalue=2.0664050599155474e-09)"
      ]
     },
     "execution_count": 45,
     "metadata": {},
     "output_type": "execute_result"
    }
   ],
   "source": [
    "ttest_ind(\n",
    "    new_df[new_df.exp_group == 'control'].hitrate_new,\n",
    "    new_df[new_df.exp_group == 'test'].hitrate_new,\n",
    ")"
   ]
  },
  {
   "cell_type": "markdown",
   "id": "05661255",
   "metadata": {},
   "source": [
    "pvalue в обоих тестах показывает, что мы можем отклонить нулевую гипотезу о том, что модели рекомендует одинаково. Изменение значимое"
   ]
  }
 ],
 "metadata": {
  "kernelspec": {
   "display_name": "Python 3 (ipykernel)",
   "language": "python",
   "name": "python3"
  },
  "language_info": {
   "codemirror_mode": {
    "name": "ipython",
    "version": 3
   },
   "file_extension": ".py",
   "mimetype": "text/x-python",
   "name": "python",
   "nbconvert_exporter": "python",
   "pygments_lexer": "ipython3",
   "version": "3.11.3"
  }
 },
 "nbformat": 4,
 "nbformat_minor": 5
}
